{
 "cells": [
  {
   "cell_type": "code",
   "execution_count": null,
   "metadata": {},
   "outputs": [],
   "source": [
    "from typing import Annotated\n",
    "\n",
    "from langchain_google_genai import ChatGoogleGenerativeAI\n",
    "from typing_extensions import TypedDict\n",
    "\n",
    "\n",
    "from langgraph.graph import StateGraph, END\n",
    "from langgraph.graph.message import add_messages\n",
    "from langgraph.prebuilt import ToolNode\n",
    "from langchain_core.messages import HumanMessage\n",
    "\n",
    "from dotenv import load_dotenv\n",
    "\n",
    "load_dotenv()\n",
    "\n",
    "from langchain_tavily import TavilySearch\n",
    "\n",
    "class State(TypedDict):\n",
    "    messages: Annotated[list, add_messages]\n",
    "\n",
    "\n",
    "graph_builder = StateGraph(State)\n",
    "\n",
    "# 各種ノードの定義\n",
    "# LLM\n",
    "llm = ChatGoogleGenerativeAI(model=\"gemini-1.5-flash\")\n",
    "# ツール\n",
    "tool = TavilySearch()\n",
    "tools = [tool]\n",
    "# LLMにツールを追加\n",
    "llm_with_tools = llm.bind_tools(tools)\n",
    "\n",
    "\n",
    "\n",
    "# 検索チャットノード\n",
    "def search_node(state: State):\n",
    "    system_prompt = \"\"\"\n",
    "    あなたは検索アシスタントです。query_nodeからのクエリに対して、Tavily検索を行い、検索結果を返してください。\n",
    "    \"\"\"\n",
    "    messages_with_prompt = [{\"role\": \"system\", \"content\": system_prompt}] + state[\"messages\"]\n",
    "    return {\"messages\": [llm_with_tools.invoke(messages_with_prompt)]}\n",
    "\n",
    "# 回答チャットノード\n",
    "def answer_node(state: State):\n",
    "    system_prompt = \"\"\"\n",
    "    あなたは回答生成アシスタントです。ユーザからの質問に対して、Tavily検索結果を元に回答を生成してください。\n",
    "    出力形式はマークダウン形式で出力してください。\n",
    "    引用元の記載にはURLのリンクもマークダウン形式で付与してください。\n",
    "    \"\"\"\n",
    "    messages_with_prompt = [{\"role\": \"system\", \"content\": system_prompt}] + state[\"messages\"]\n",
    "    return {\"messages\": [llm.invoke(messages_with_prompt)]}\n",
    "\n",
    "tool_node = ToolNode(tools=[tool])\n",
    "\n",
    "# The first argument is the unique node name\n",
    "# The second argument is the function or object that will be called whenever\n",
    "# the node is used.\n",
    "graph_builder.add_node(\"search_node\", search_node)\n",
    "graph_builder.add_node(\"tool_node\", tool_node)\n",
    "graph_builder.add_node(\"answer_node\", answer_node)\n",
    "graph_builder.set_entry_point(\"search_node\")\n",
    "\n",
    "\n",
    "def should_continue(state: State) -> str:\n",
    "    \"\"\"\n",
    "    最後のメッセージにツールコールがあるかどうかを判断する。\n",
    "    \"\"\"\n",
    "    last_message = state[\"messages\"][-1]\n",
    "    if last_message.tool_calls:\n",
    "        return \"continue\"\n",
    "    return \"end\"\n",
    "\n",
    "# search_nodeの後に tool_node を挟み、再度回答生成へ\n",
    "graph_builder.add_conditional_edges(\n",
    "    \"search_node\",\n",
    "    should_continue,\n",
    "    {\n",
    "        \"continue\": \"tool_node\",\n",
    "        \"end\": \"answer_node\",\n",
    "    },\n",
    ")\n",
    "\n",
    "# tool_nodeの後はanswer_nodeに戻る\n",
    "graph_builder.add_edge(\"tool_node\", \"answer_node\")\n",
    "\n",
    "# 回答ノードの後はENDに戻る\n",
    "graph_builder.add_edge(\"answer_node\", END)\n",
    "\n",
    "graph = graph_builder.compile()\n",
    "\n",
    "def search_agent(question: str):\n",
    "    return graph.invoke({\"messages\": [HumanMessage(content=question)]})\n",
    "\n"
   ]
  },
  {
   "cell_type": "code",
   "execution_count": 3,
   "metadata": {},
   "outputs": [
    {
     "data": {
      "image/png": "[encoded data removed]",
      "text/plain": [
       "<IPython.core.display.Image object>"
      ]
     },
     "metadata": {},
     "output_type": "display_data"
    }
   ],
   "source": [
    "from IPython.display import Image, display\n",
    "\n",
    "try:\n",
    "    display(Image(graph.get_graph().draw_mermaid_png()))\n",
    "except Exception:\n",
    "    # This requires some extra dependencies and is optional\n",
    "    pass"
   ]
  },
  {
   "cell_type": "code",
   "execution_count": null,
   "metadata": {},
   "outputs": [],
   "source": []
  }
 ],
 "metadata": {
  "kernelspec": {
   "display_name": "Python 3",
   "language": "python",
   "name": "python3"
  },
  "language_info": {
   "codemirror_mode": {
    "name": "ipython",
    "version": 3
   },
   "file_extension": ".py",
   "mimetype": "text/x-python",
   "name": "python",
   "nbconvert_exporter": "python",
   "pygments_lexer": "ipython3",
   "version": "3.13.3"
  }
 },
 "nbformat": 4,
 "nbformat_minor": 2
}
